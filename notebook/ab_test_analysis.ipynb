{
 "cells": [
  {
   "cell_type": "markdown",
   "id": "efba83f1",
   "metadata": {},
   "source": [
    "## Importing Libraries"
   ]
  },
  {
   "cell_type": "code",
   "execution_count": 2,
   "id": "175ce292",
   "metadata": {},
   "outputs": [],
   "source": [
    "import pandas as pd\n",
    "import matplotlib.pyplot as plt\n",
    "import seaborn as sns\n",
    "import scipy as sp"
   ]
  },
  {
   "cell_type": "markdown",
   "id": "4f40499e",
   "metadata": {},
   "source": [
    "## 1. Data Loading and Cleaning \n",
    "In this step, we load our dataset and perform an initial inspection:\n",
    "* View general information about the data using `.info()`\n",
    "* Check for missing values using `.isna().sum()`"
   ]
  },
  {
   "cell_type": "code",
   "execution_count": 3,
   "id": "eaaee591",
   "metadata": {},
   "outputs": [
    {
     "name": "stdout",
     "output_type": "stream",
     "text": [
      "<class 'pandas.core.frame.DataFrame'>\n",
      "RangeIndex: 90189 entries, 0 to 90188\n",
      "Data columns (total 5 columns):\n",
      " #   Column          Non-Null Count  Dtype \n",
      "---  ------          --------------  ----- \n",
      " 0   userid          90189 non-null  int64 \n",
      " 1   version         90189 non-null  object\n",
      " 2   sum_gamerounds  90189 non-null  int64 \n",
      " 3   retention_1     90189 non-null  bool  \n",
      " 4   retention_7     90189 non-null  bool  \n",
      "dtypes: bool(2), int64(2), object(1)\n",
      "memory usage: 2.2+ MB\n"
     ]
    },
    {
     "data": {
      "text/plain": [
       "userid            0\n",
       "version           0\n",
       "sum_gamerounds    0\n",
       "retention_1       0\n",
       "retention_7       0\n",
       "dtype: int64"
      ]
     },
     "execution_count": 3,
     "metadata": {},
     "output_type": "execute_result"
    }
   ],
   "source": [
    "data = pd.read_csv(r\"D:\\\\my_projects\\\\project_gate_AB\\\\data\\\\cookie_cats.csv\")\n",
    "data.info()\n",
    "data.isna().sum()"
   ]
  },
  {
   "cell_type": "markdown",
   "id": "e4bb3382",
   "metadata": {},
   "source": [
    "**Conclusion:**  \n",
    "The data is clean, with no missing values detected.  \n",
    "We can now proceed to the Exploratory Data Analysis (EDA) phase."
   ]
  },
  {
   "cell_type": "markdown",
   "id": "8befb403",
   "metadata": {},
   "source": [
    "## 2. Exploratory Data Analysis (EDA)\n",
    "Now that the data is clean, we'll dive deeper. The first step in analyzing an A/B test is to check if the two groups have a similar number of players.\n",
    "### 2.1 Checking Group Sizes"
   ]
  },
  {
   "cell_type": "code",
   "execution_count": 4,
   "id": "58d21e3a",
   "metadata": {},
   "outputs": [
    {
     "name": "stdout",
     "output_type": "stream",
     "text": [
      "version\n",
      "gate_40    45489\n",
      "gate_30    44700\n",
      "Name: count, dtype: int64\n"
     ]
    }
   ],
   "source": [
    "group_size = data['version'].value_counts()\n",
    "print(group_size)"
   ]
  },
  {
   "cell_type": "markdown",
   "id": "55020a00",
   "metadata": {},
   "source": [
    "**Conclusion on Group Sizes:**\n",
    "While the number of players in the two groups is not exactly equal, the difference is small and not critical. It is normal for A/B tests to have a slight difference in sample sizes. This confirms the groups are well-balanced enough for a reliable analysis."
   ]
  },
  {
   "cell_type": "markdown",
   "id": "09f2b2e4",
   "metadata": {},
   "source": [
    "### 2.2 Analyzing 'sum_gamerounds'\n",
    "Let's look at the distribution of the `sum_gamerounds` column, which is a key indicator of player engagement. We'll start by looking at its summary statistics to identify potential skewness or outliers."
   ]
  },
  {
   "cell_type": "code",
   "execution_count": 5,
   "id": "cc072acd",
   "metadata": {},
   "outputs": [
    {
     "data": {
      "text/plain": [
       "count    90189.000000\n",
       "mean        51.872457\n",
       "std        195.050858\n",
       "min          0.000000\n",
       "25%          5.000000\n",
       "50%         16.000000\n",
       "75%         51.000000\n",
       "max      49854.000000\n",
       "Name: sum_gamerounds, dtype: float64"
      ]
     },
     "execution_count": 5,
     "metadata": {},
     "output_type": "execute_result"
    }
   ],
   "source": [
    "data['sum_gamerounds'].describe()"
   ]
  },
  {
   "cell_type": "markdown",
   "id": "c04fe6a1",
   "metadata": {},
   "source": [
    "**Observation:** There is a huge difference between the mean (~52) and the median (16), and the max value (49.854) is extremely high compared to the 75th percentile (51). This confirms that the data is highly skewed and there is at least one extreme outlier.\n",
    "\n",
    "Let's use a box plot to visualize this."
   ]
  },
  {
   "cell_type": "code",
   "execution_count": 6,
   "id": "4515514c",
   "metadata": {},
   "outputs": [
    {
     "data": {
      "image/png": "[encoded data removed]",
      "text/plain": [
       "<Figure size 640x480 with 1 Axes>"
      ]
     },
     "metadata": {},
     "output_type": "display_data"
    }
   ],
   "source": [
    "s_game_r = sns.boxplot(x = data['sum_gamerounds'])\n",
    "plt.show()"
   ]
  },
  {
   "cell_type": "markdown",
   "id": "35776129",
   "metadata": {},
   "source": [
    "The box plot confirms our suspicion: the vast majority of players are clustered at the low end, and there is one extreme data point that skews the entire dataset. This is likely a bug or a test account and should be removed for a meaningful analysis."
   ]
  },
  {
   "cell_type": "code",
   "execution_count": 7,
   "id": "4b411286",
   "metadata": {},
   "outputs": [
    {
     "data": {
      "text/plain": [
       "count    90188.000000\n",
       "mean        51.320253\n",
       "std        102.682719\n",
       "min          0.000000\n",
       "25%          5.000000\n",
       "50%         16.000000\n",
       "75%         51.000000\n",
       "max       2961.000000\n",
       "Name: sum_gamerounds, dtype: float64"
      ]
     },
     "execution_count": 7,
     "metadata": {},
     "output_type": "execute_result"
    }
   ],
   "source": [
    "data = data[data['sum_gamerounds'] < 40000]\n",
    "data['sum_gamerounds'].describe()"
   ]
  },
  {
   "cell_type": "markdown",
   "id": "51efdd68",
   "metadata": {},
   "source": [
    "After removing the single outlier, the maximum value is now much more reasonable. Let's create another box plot to see the new distribution of our player base."
   ]
  },
  {
   "cell_type": "code",
   "execution_count": 8,
   "id": "d8101e5f",
   "metadata": {},
   "outputs": [
    {
     "data": {
      "image/png": "[encoded data removed]",
      "text/plain": [
       "<Figure size 640x480 with 1 Axes>"
      ]
     },
     "metadata": {},
     "output_type": "display_data"
    }
   ],
   "source": [
    "sns.boxplot(x = data['sum_gamerounds'])\n",
    "plt.show()"
   ]
  },
  {
   "cell_type": "markdown",
   "id": "b6e33478",
   "metadata": {},
   "source": [
    "### 2.3 Analyzing Player Behavior by Group\n",
    "The box plot shows a heavily skewed distribution, which is common in gaming data. The \"outliers\" are not errors but represent our most engaged players. Our goal now is to compare the engagement (`sum_gamerounds`) between the two groups (`gate_30` and `gate_40`).\n",
    "\n",
    "We can do this by grouping the data by `version` and calculating summary statistics."
   ]
  },
  {
   "cell_type": "code",
   "execution_count": 16,
   "id": "7c91fc43",
   "metadata": {},
   "outputs": [
    {
     "data": {
      "text/html": [
       "<div>\n",
       "<style scoped>\n",
       "    .dataframe tbody tr th:only-of-type {\n",
       "        vertical-align: middle;\n",
       "    }\n",
       "\n",
       "    .dataframe tbody tr th {\n",
       "        vertical-align: top;\n",
       "    }\n",
       "\n",
       "    .dataframe thead th {\n",
       "        text-align: right;\n",
       "    }\n",
       "</style>\n",
       "<table border=\"1\" class=\"dataframe\">\n",
       "  <thead>\n",
       "    <tr style=\"text-align: right;\">\n",
       "      <th></th>\n",
       "      <th>count</th>\n",
       "      <th>mean</th>\n",
       "      <th>median</th>\n",
       "      <th>std</th>\n",
       "      <th>min</th>\n",
       "      <th>max</th>\n",
       "    </tr>\n",
       "    <tr>\n",
       "      <th>version</th>\n",
       "      <th></th>\n",
       "      <th></th>\n",
       "      <th></th>\n",
       "      <th></th>\n",
       "      <th></th>\n",
       "      <th></th>\n",
       "    </tr>\n",
       "  </thead>\n",
       "  <tbody>\n",
       "    <tr>\n",
       "      <th>gate_30</th>\n",
       "      <td>44699</td>\n",
       "      <td>51.342111</td>\n",
       "      <td>17.0</td>\n",
       "      <td>102.057598</td>\n",
       "      <td>0</td>\n",
       "      <td>2961</td>\n",
       "    </tr>\n",
       "    <tr>\n",
       "      <th>gate_40</th>\n",
       "      <td>45489</td>\n",
       "      <td>51.298776</td>\n",
       "      <td>16.0</td>\n",
       "      <td>103.294416</td>\n",
       "      <td>0</td>\n",
       "      <td>2640</td>\n",
       "    </tr>\n",
       "  </tbody>\n",
       "</table>\n",
       "</div>"
      ],
      "text/plain": [
       "         count       mean  median         std  min   max\n",
       "version                                                 \n",
       "gate_30  44699  51.342111    17.0  102.057598    0  2961\n",
       "gate_40  45489  51.298776    16.0  103.294416    0  2640"
      ]
     },
     "execution_count": 16,
     "metadata": {},
     "output_type": "execute_result"
    }
   ],
   "source": [
    "data.groupby('version')['sum_gamerounds'].agg(['count', 'mean', 'median', 'std', 'min', 'max'])"
   ]
  },
  {
   "cell_type": "markdown",
   "id": "e5da790b",
   "metadata": {},
   "source": [
    "**EDA Conclusion:**\n",
    "\n",
    "The exploratory data analysis is complete. We have confirmed that the group sizes are balanced and have handled the extreme outlier in `sum_gamerounds`. The dataset is now clean and ready for formal hypothesis testing."
   ]
  },
  {
   "cell_type": "markdown",
   "id": "97889333",
   "metadata": {},
   "source": [
    "## 3. Hypothesis Formulation\n",
    "\n",
    "Now that we have cleaned and explored the data, it's time to formally state our hypotheses for the A/B test.\n",
    "\n",
    "* **Null Hypothesis (H₀):** There is **no difference** in player retention (both 1-day and 7-day) between the two groups (`gate_30` and `gate_40`). Any observed difference is due to random chance.\n",
    "\n",
    "* **Alternative Hypothesis (H₁):** There is **a significant difference** in player retention (both 1-day and 7-day) between the two groups.\n",
    "\n",
    "Our goal is to gather statistical evidence to either reject the null hypothesis in favor of the alternative, or fail to reject it.\n",
    "print(data.head(1))"
   ]
  }
 ],
 "metadata": {
  "kernelspec": {
   "display_name": ".venv",
   "language": "python",
   "name": "python3"
  },
  "language_info": {
   "codemirror_mode": {
    "name": "ipython",
    "version": 3
   },
   "file_extension": ".py",
   "mimetype": "text/x-python",
   "name": "python",
   "nbconvert_exporter": "python",
   "pygments_lexer": "ipython3",
   "version": "3.13.4"
  }
 },
 "nbformat": 4,
 "nbformat_minor": 5
}
