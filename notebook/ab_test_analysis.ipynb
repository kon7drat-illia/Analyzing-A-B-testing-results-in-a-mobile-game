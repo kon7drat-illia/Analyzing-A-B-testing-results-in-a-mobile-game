{
 "cells": [
  {
   "cell_type": "markdown",
   "id": "efba83f1",
   "metadata": {},
   "source": [
    "## Importing Libraries"
   ]
  },
  {
   "cell_type": "code",
   "execution_count": 7,
   "id": "175ce292",
   "metadata": {},
   "outputs": [],
   "source": [
    "import pandas as pd\n",
    "import matplotlib as plt\n",
    "import seaborn as sns\n",
    "import scipy as sp"
   ]
  },
  {
   "cell_type": "markdown",
   "id": "4f40499e",
   "metadata": {},
   "source": [
    "## 1. Data Loading and Cleaning \n",
    "In this step, we load our dataset and perform an initial inspection:\n",
    "* View general information about the data using `.info()`\n",
    "* Check for missing values using `.isna().sum()`"
   ]
  },
  {
   "cell_type": "code",
   "execution_count": 13,
   "id": "eaaee591",
   "metadata": {},
   "outputs": [
    {
     "name": "stdout",
     "output_type": "stream",
     "text": [
      "<class 'pandas.core.frame.DataFrame'>\n",
      "RangeIndex: 90189 entries, 0 to 90188\n",
      "Data columns (total 5 columns):\n",
      " #   Column          Non-Null Count  Dtype \n",
      "---  ------          --------------  ----- \n",
      " 0   userid          90189 non-null  int64 \n",
      " 1   version         90189 non-null  object\n",
      " 2   sum_gamerounds  90189 non-null  int64 \n",
      " 3   retention_1     90189 non-null  bool  \n",
      " 4   retention_7     90189 non-null  bool  \n",
      "dtypes: bool(2), int64(2), object(1)\n",
      "memory usage: 2.2+ MB\n"
     ]
    },
    {
     "data": {
      "text/plain": [
       "userid            0\n",
       "version           0\n",
       "sum_gamerounds    0\n",
       "retention_1       0\n",
       "retention_7       0\n",
       "dtype: int64"
      ]
     },
     "execution_count": 13,
     "metadata": {},
     "output_type": "execute_result"
    }
   ],
   "source": [
    "data = pd.read_csv(r\"D:\\\\my_projects\\\\project_gate_AB\\\\data\\\\cookie_cats.csv\")\n",
    "data.info()\n",
    "data.head(10)\n",
    "data.isna().sum()"
   ]
  },
  {
   "cell_type": "markdown",
   "id": "e4bb3382",
   "metadata": {},
   "source": [
    "**Conclusion:**  \n",
    "The data is clean, with no missing values detected.  \n",
    "We can now proceed to the Exploratory Data Analysis (EDA) phase."
   ]
  },
  {
   "cell_type": "markdown",
   "id": "8befb403",
   "metadata": {},
   "source": [
    "## 2. Exploratory Data Analysis (EDA)\n",
    "Now that the data is clean, we'll dive deeper. The first step in analyzing an A/B test is to check if the two groups have a similar number of players.\n",
    "### Checking Group Sizes"
   ]
  },
  {
   "cell_type": "code",
   "execution_count": 12,
   "id": "58d21e3a",
   "metadata": {},
   "outputs": [
    {
     "data": {
      "text/plain": [
       "version\n",
       "gate_40    45489\n",
       "gate_30    44700\n",
       "Name: count, dtype: int64"
      ]
     },
     "execution_count": 12,
     "metadata": {},
     "output_type": "execute_result"
    }
   ],
   "source": [
    "data['version'].value_counts()"
   ]
  },
  {
   "cell_type": "markdown",
   "id": "55020a00",
   "metadata": {},
   "source": [
    "Now we see that number of respondents is not equel."
   ]
  }
 ],
 "metadata": {
  "kernelspec": {
   "display_name": ".venv",
   "language": "python",
   "name": "python3"
  },
  "language_info": {
   "codemirror_mode": {
    "name": "ipython",
    "version": 3
   },
   "file_extension": ".py",
   "mimetype": "text/x-python",
   "name": "python",
   "nbconvert_exporter": "python",
   "pygments_lexer": "ipython3",
   "version": "3.13.4"
  }
 },
 "nbformat": 4,
 "nbformat_minor": 5
}
